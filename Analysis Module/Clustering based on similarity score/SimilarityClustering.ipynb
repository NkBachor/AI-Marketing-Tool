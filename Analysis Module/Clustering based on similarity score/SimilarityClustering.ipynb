{
  "cells": [
    {
      "cell_type": "code",
      "execution_count": 78,
      "id": "5db7524c",
      "metadata": {
        "id": "5db7524c"
      },
      "outputs": [],
      "source": [
        "import pandas as pd\n",
        "import numpy as np\n",
        "import numpy as np\n",
        "import matplotlib.pyplot as plt\n",
        "from sklearn.cluster import KMeans\n",
        "from sklearn import datasets\n",
        "from sklearn.datasets import make_blobs\n",
        "from sklearn.metrics import silhouette_score\n",
        "from sklearn.preprocessing import StandardScaler"
      ]
    },
    {
      "cell_type": "code",
      "execution_count": 79,
      "id": "cb1e8d0e",
      "metadata": {
        "id": "cb1e8d0e"
      },
      "outputs": [],
      "source": [
        "#Reading dataset \n",
        "data=pd.read_csv(r\"/content/competitor_influencer_similarity.csv\", low_memory=False)"
      ]
    },
    {
      "cell_type": "code",
      "source": [
        "data.head()"
      ],
      "metadata": {
        "colab": {
          "base_uri": "https://localhost:8080/",
          "height": 206
        },
        "id": "-AI21NzZ-SRP",
        "outputId": "c51f841e-f643-41b6-fc93-2a7deb06309b"
      },
      "id": "-AI21NzZ-SRP",
      "execution_count": 80,
      "outputs": [
        {
          "output_type": "execute_result",
          "data": {
            "text/plain": [
              "  competitor_name influencer_name  similarity_score\n",
              "0            bulk    aaroncgshore          0.052173\n",
              "1            bulk     adamcollard          0.112365\n",
              "2            bulk    aliceliveing          0.105055\n",
              "3            bulk      brown.elle          0.031806\n",
              "4            bulk  charlottedawsy          0.096758"
            ],
            "text/html": [
              "\n",
              "  <div id=\"df-3cefa5a3-d506-4371-a826-5af15e0eb6d7\">\n",
              "    <div class=\"colab-df-container\">\n",
              "      <div>\n",
              "<style scoped>\n",
              "    .dataframe tbody tr th:only-of-type {\n",
              "        vertical-align: middle;\n",
              "    }\n",
              "\n",
              "    .dataframe tbody tr th {\n",
              "        vertical-align: top;\n",
              "    }\n",
              "\n",
              "    .dataframe thead th {\n",
              "        text-align: right;\n",
              "    }\n",
              "</style>\n",
              "<table border=\"1\" class=\"dataframe\">\n",
              "  <thead>\n",
              "    <tr style=\"text-align: right;\">\n",
              "      <th></th>\n",
              "      <th>competitor_name</th>\n",
              "      <th>influencer_name</th>\n",
              "      <th>similarity_score</th>\n",
              "    </tr>\n",
              "  </thead>\n",
              "  <tbody>\n",
              "    <tr>\n",
              "      <th>0</th>\n",
              "      <td>bulk</td>\n",
              "      <td>aaroncgshore</td>\n",
              "      <td>0.052173</td>\n",
              "    </tr>\n",
              "    <tr>\n",
              "      <th>1</th>\n",
              "      <td>bulk</td>\n",
              "      <td>adamcollard</td>\n",
              "      <td>0.112365</td>\n",
              "    </tr>\n",
              "    <tr>\n",
              "      <th>2</th>\n",
              "      <td>bulk</td>\n",
              "      <td>aliceliveing</td>\n",
              "      <td>0.105055</td>\n",
              "    </tr>\n",
              "    <tr>\n",
              "      <th>3</th>\n",
              "      <td>bulk</td>\n",
              "      <td>brown.elle</td>\n",
              "      <td>0.031806</td>\n",
              "    </tr>\n",
              "    <tr>\n",
              "      <th>4</th>\n",
              "      <td>bulk</td>\n",
              "      <td>charlottedawsy</td>\n",
              "      <td>0.096758</td>\n",
              "    </tr>\n",
              "  </tbody>\n",
              "</table>\n",
              "</div>\n",
              "      <button class=\"colab-df-convert\" onclick=\"convertToInteractive('df-3cefa5a3-d506-4371-a826-5af15e0eb6d7')\"\n",
              "              title=\"Convert this dataframe to an interactive table.\"\n",
              "              style=\"display:none;\">\n",
              "        \n",
              "  <svg xmlns=\"http://www.w3.org/2000/svg\" height=\"24px\"viewBox=\"0 0 24 24\"\n",
              "       width=\"24px\">\n",
              "    <path d=\"M0 0h24v24H0V0z\" fill=\"none\"/>\n",
              "    <path d=\"M18.56 5.44l.94 2.06.94-2.06 2.06-.94-2.06-.94-.94-2.06-.94 2.06-2.06.94zm-11 1L8.5 8.5l.94-2.06 2.06-.94-2.06-.94L8.5 2.5l-.94 2.06-2.06.94zm10 10l.94 2.06.94-2.06 2.06-.94-2.06-.94-.94-2.06-.94 2.06-2.06.94z\"/><path d=\"M17.41 7.96l-1.37-1.37c-.4-.4-.92-.59-1.43-.59-.52 0-1.04.2-1.43.59L10.3 9.45l-7.72 7.72c-.78.78-.78 2.05 0 2.83L4 21.41c.39.39.9.59 1.41.59.51 0 1.02-.2 1.41-.59l7.78-7.78 2.81-2.81c.8-.78.8-2.07 0-2.86zM5.41 20L4 18.59l7.72-7.72 1.47 1.35L5.41 20z\"/>\n",
              "  </svg>\n",
              "      </button>\n",
              "      \n",
              "  <style>\n",
              "    .colab-df-container {\n",
              "      display:flex;\n",
              "      flex-wrap:wrap;\n",
              "      gap: 12px;\n",
              "    }\n",
              "\n",
              "    .colab-df-convert {\n",
              "      background-color: #E8F0FE;\n",
              "      border: none;\n",
              "      border-radius: 50%;\n",
              "      cursor: pointer;\n",
              "      display: none;\n",
              "      fill: #1967D2;\n",
              "      height: 32px;\n",
              "      padding: 0 0 0 0;\n",
              "      width: 32px;\n",
              "    }\n",
              "\n",
              "    .colab-df-convert:hover {\n",
              "      background-color: #E2EBFA;\n",
              "      box-shadow: 0px 1px 2px rgba(60, 64, 67, 0.3), 0px 1px 3px 1px rgba(60, 64, 67, 0.15);\n",
              "      fill: #174EA6;\n",
              "    }\n",
              "\n",
              "    [theme=dark] .colab-df-convert {\n",
              "      background-color: #3B4455;\n",
              "      fill: #D2E3FC;\n",
              "    }\n",
              "\n",
              "    [theme=dark] .colab-df-convert:hover {\n",
              "      background-color: #434B5C;\n",
              "      box-shadow: 0px 1px 3px 1px rgba(0, 0, 0, 0.15);\n",
              "      filter: drop-shadow(0px 1px 2px rgba(0, 0, 0, 0.3));\n",
              "      fill: #FFFFFF;\n",
              "    }\n",
              "  </style>\n",
              "\n",
              "      <script>\n",
              "        const buttonEl =\n",
              "          document.querySelector('#df-3cefa5a3-d506-4371-a826-5af15e0eb6d7 button.colab-df-convert');\n",
              "        buttonEl.style.display =\n",
              "          google.colab.kernel.accessAllowed ? 'block' : 'none';\n",
              "\n",
              "        async function convertToInteractive(key) {\n",
              "          const element = document.querySelector('#df-3cefa5a3-d506-4371-a826-5af15e0eb6d7');\n",
              "          const dataTable =\n",
              "            await google.colab.kernel.invokeFunction('convertToInteractive',\n",
              "                                                     [key], {});\n",
              "          if (!dataTable) return;\n",
              "\n",
              "          const docLinkHtml = 'Like what you see? Visit the ' +\n",
              "            '<a target=\"_blank\" href=https://colab.research.google.com/notebooks/data_table.ipynb>data table notebook</a>'\n",
              "            + ' to learn more about interactive tables.';\n",
              "          element.innerHTML = '';\n",
              "          dataTable['output_type'] = 'display_data';\n",
              "          await google.colab.output.renderOutput(dataTable, element);\n",
              "          const docLink = document.createElement('div');\n",
              "          docLink.innerHTML = docLinkHtml;\n",
              "          element.appendChild(docLink);\n",
              "        }\n",
              "      </script>\n",
              "    </div>\n",
              "  </div>\n",
              "  "
            ]
          },
          "metadata": {},
          "execution_count": 80
        }
      ]
    },
    {
      "cell_type": "code",
      "source": [
        "# select all data that contain a specific competitor\n",
        "filtered_data=data[data['competitor_name'].str.contains('liveinnermost')]\n",
        "filtered_data"
      ],
      "metadata": {
        "id": "AywYZBTVpdFK"
      },
      "id": "AywYZBTVpdFK",
      "execution_count": null,
      "outputs": []
    },
    {
      "cell_type": "code",
      "execution_count": 85,
      "id": "bb0defc8",
      "metadata": {
        "id": "bb0defc8"
      },
      "outputs": [],
      "source": [
        "x = filtered_data.iloc[:, [2]]"
      ]
    },
    {
      "cell_type": "code",
      "execution_count": null,
      "id": "e6fd28db",
      "metadata": {
        "id": "e6fd28db"
      },
      "outputs": [],
      "source": [
        "x  = np.array(x)\n",
        "x"
      ]
    },
    {
      "cell_type": "code",
      "source": [
        "kmeans_kwargs = {\n",
        "     \"init\": \"random\",\n",
        "     \"n_init\": 10,\n",
        "     \"max_iter\": 300,\n",
        "     \"random_state\": 42,\n",
        "     }"
      ],
      "metadata": {
        "id": "zobiphI5DzlS"
      },
      "id": "zobiphI5DzlS",
      "execution_count": 87,
      "outputs": []
    },
    {
      "cell_type": "code",
      "source": [
        "# A list holds the silhouette coefficients for each k\n",
        "silhouette_coefficients = []\n",
        "# Notice you start at 2 clusters for silhouette coefficient\n",
        "for k in range(2, 12):\n",
        "  kmeans = KMeans(n_clusters=k, **kmeans_kwargs)\n",
        "  kmeans.fit(x)\n",
        "  score = silhouette_score(x, kmeans.labels_)\n",
        "  silhouette_coefficients.append(score)"
      ],
      "metadata": {
        "id": "Af-MiiJfDUVh"
      },
      "id": "Af-MiiJfDUVh",
      "execution_count": 88,
      "outputs": []
    },
    {
      "cell_type": "code",
      "source": [
        "plt.style.use(\"fivethirtyeight\")\n",
        "plt.plot(range(2, 12), silhouette_coefficients)\n",
        "plt.xticks(range(2, 12))\n",
        "plt.xlabel(\"Number of Clusters\")\n",
        "plt.ylabel(\"Silhouette Coefficient\")\n",
        "plt.show()"
      ],
      "metadata": {
        "colab": {
          "base_uri": "https://localhost:8080/",
          "height": 304
        },
        "id": "T8vMLKwSERS1",
        "outputId": "eaa9fd10-1962-434e-97df-4fb6902b36c4"
      },
      "id": "T8vMLKwSERS1",
      "execution_count": 89,
      "outputs": [
        {
          "output_type": "display_data",
          "data": {
            "text/plain": [
              "<Figure size 432x288 with 1 Axes>"
            ],
            "image/png": "[encoded data removed]"
          },
          "metadata": {}
        }
      ]
    },
    {
      "cell_type": "code",
      "execution_count": 90,
      "id": "06319487",
      "metadata": {
        "id": "06319487"
      },
      "outputs": [],
      "source": [
        "#K-means clustering\n",
        "kmeans_model = KMeans(n_clusters=3,  random_state=32932)\n",
        "# Fit into our dataset fit\n",
        "kmeans_predict = kmeans_model.fit_predict(x)"
      ]
    },
    {
      "cell_type": "code",
      "execution_count": null,
      "id": "c64af977",
      "metadata": {
        "id": "c64af977"
      },
      "outputs": [],
      "source": [
        "#Forming the cluster column\n",
        "filtered_data['Cluster'] = kmeans_predict\n",
        "filtered_data"
      ]
    },
    {
      "cell_type": "code",
      "source": [
        "filtered_data.sort_values(\n",
        "    by=\"Cluster\",\n",
        "    ascending=True\n",
        "    )"
      ],
      "metadata": {
        "id": "exQCkexGPiFw"
      },
      "id": "exQCkexGPiFw",
      "execution_count": null,
      "outputs": []
    },
    {
      "cell_type": "code",
      "execution_count": 96,
      "id": "21210fb2",
      "metadata": {
        "colab": {
          "base_uri": "https://localhost:8080/"
        },
        "id": "21210fb2",
        "outputId": "c6a3d0c2-17fc-44ac-809f-92a1033845a1"
      },
      "outputs": [
        {
          "output_type": "execute_result",
          "data": {
            "text/plain": [
              "0    15\n",
              "1    14\n",
              "2     1\n",
              "Name: Cluster, dtype: int64"
            ]
          },
          "metadata": {},
          "execution_count": 96
        }
      ],
      "source": [
        "filtered_data['Cluster'].value_counts()"
      ]
    }
  ],
  "metadata": {
    "kernelspec": {
      "display_name": "Python 3 (ipykernel)",
      "language": "python",
      "name": "python3"
    },
    "language_info": {
      "codemirror_mode": {
        "name": "ipython",
        "version": 3
      },
      "file_extension": ".py",
      "mimetype": "text/x-python",
      "name": "python",
      "nbconvert_exporter": "python",
      "pygments_lexer": "ipython3",
      "version": "3.9.7"
    },
    "colab": {
      "provenance": []
    }
  },
  "nbformat": 4,
  "nbformat_minor": 5
}